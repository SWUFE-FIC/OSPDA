{
 "cells": [
  {
   "cell_type": "code",
   "execution_count": 1,
   "id": "collaborative-might",
   "metadata": {},
   "outputs": [
    {
     "name": "stderr",
     "output_type": "stream",
     "text": [
      "[4pdvGPU Msg(192:139851036411712:libvgpu.c:821)]: Initializing...\n",
      "[4pdvGPU Warn(192:139851036411712:multiprocess_memory_limit.c:543)]: size_t size=280392\n",
      "[4pdvGPU Warn(192:139851036411712:hook.c:396)]: can't find function nvmlDeviceGetMemoryInfo_v2 in libnvidia-ml.so.1\n",
      "[4pdvGPU Msg(192:139851036411712:context.c:120)]: vdevices_pci=0000:65:00.0\n",
      "[4pdvGPU Msg(192:139851036411712:libvgpu.c:838)]: Initialized\n",
      "[4pdvGPU Msg(192:139851036411712:multiprocess_utilization_watcher.c:186)]: into utilization_watcher 50\n",
      "\n",
      "[4pdvGPU Warn(192:139851036411712:libvgpu.c:76)]: recursive dlsym : ompt_start_tool\n",
      "\n"
     ]
    },
    {
     "name": "stdout",
     "output_type": "stream",
     "text": [
      "符合要求的三角形概率为： 0.49980899691581726\n",
      "计算耗时： 1.1920928955078125e-05 秒\n"
     ]
    }
   ],
   "source": [
    "import torch\n",
    "import time\n",
    "\n",
    "# 设置随机数种子，保证每次生成的随机数相同\n",
    "torch.manual_seed(1234)\n",
    "\n",
    "# 定义计算三角形面积的函数\n",
    "def area(a, b, c):\n",
    "    p = (a + b + c) / 2\n",
    "    return torch.sqrt(p * (p - a) * (p - b) * (p - c))\n",
    "\n",
    "# 定义计算三角形内切圆半径的函数\n",
    "def inradius(a, b, c):\n",
    "    return 2 * area(a, b, c) / (a + b + c)\n",
    "\n",
    "# 定义计算三角形外接圆半径的函数\n",
    "def circumradius(a, b, c):\n",
    "    return a * b * c / (4 * area(a, b, c))\n",
    "\n",
    "# 定义判断三角形是否符合要求的函数\n",
    "def is_valid_triangle(a, b, c):\n",
    "    if (a + b <= c) | (a + c <= b) | (b + c <= a):\n",
    "        return False\n",
    "    inrad = inradius(a, b, c)\n",
    "    circumrad = circumradius(a, b, c)\n",
    "    if inrad >= circumrad / 2:\n",
    "        return False\n",
    "    return True\n",
    "\n",
    "# 定义蒙特卡洛方法计算符合要求的三角形概率的函数\n",
    "def monte_carlo_gpu(N):\n",
    "    # 将计算移动到 GPU 上\n",
    "    device = torch.device(\"cuda\" if torch.cuda.is_available() else \"cpu\")\n",
    "    a = torch.empty(N, device=device).uniform_(0, 10)\n",
    "    b = torch.empty(N, device=device).uniform_(0, 10)\n",
    "    c = torch.empty(N, device=device).uniform_(0, 10)\n",
    "    is_valid = (a + b > c) & (a + c > b) & (b + c > a)\n",
    "    inrad = inradius(a, b, c)\n",
    "    circumrad = circumradius(a, b, c)\n",
    "    is_valid &= (inrad < circumrad / 2)\n",
    "    count = torch.sum(is_valid)\n",
    "    total = N\n",
    "    start_time = time.time()\n",
    "    prob = count / total\n",
    "    end_time = time.time()\n",
    "    elapsed_time = end_time - start_time\n",
    "    return prob, elapsed_time\n",
    "\n",
    "# 设置实验次数\n",
    "N = 1000000\n",
    "\n",
    "# 调用蒙特卡洛方法计算符合要求的三角形概率和计算时间\n",
    "prob, elapsed_time = monte_carlo_gpu(N)\n",
    "\n",
    "# 输出结果\n",
    "print(\"符合要求的三角形概率为：\", prob.item())\n",
    "print(\"计算耗时：\", elapsed_time, \"秒\")\n"
   ]
  },
  {
   "cell_type": "code",
   "execution_count": 2,
   "id": "bound-checklist",
   "metadata": {},
   "outputs": [
    {
     "name": "stdout",
     "output_type": "stream",
     "text": [
      "符合要求的三角形概率为： 0.50002386\n",
      "计算耗时： 104.92745208740234 秒\n"
     ]
    }
   ],
   "source": [
    "import random\n",
    "import math\n",
    "import time\n",
    "\n",
    "# 设置随机数种子，保证每次生成的随机数相同\n",
    "random.seed(1234)\n",
    "\n",
    "# 定义计算三角形面积的函数\n",
    "def area(a, b, c):\n",
    "    p = (a + b + c) / 2\n",
    "    return math.sqrt(p * (p - a) * (p - b) * (p - c))\n",
    "\n",
    "# 定义计算三角形内切圆半径的函数\n",
    "def inradius(a, b, c):\n",
    "    return 2 * area(a, b, c) / (a + b + c)\n",
    "\n",
    "# 定义计算三角形外接圆半径的函数\n",
    "def circumradius(a, b, c):\n",
    "    return a * b * c / (4 * area(a, b, c))\n",
    "\n",
    "# 定义判断三角形是否符合要求的函数\n",
    "def is_valid_triangle(a, b, c):\n",
    "    if a + b <= c or a + c <= b or b + c <= a:\n",
    "        return False\n",
    "    inrad = inradius(a, b, c)\n",
    "    circumrad = circumradius(a, b, c)\n",
    "    if inrad >= circumrad / 2:\n",
    "        return False\n",
    "    return True\n",
    "\n",
    "# 定义蒙特卡洛方法计算符合要求的三角形概率的函数\n",
    "def monte_carlo(N):\n",
    "    count = 0\n",
    "    total = N\n",
    "    start_time = time.time()\n",
    "    for i in range(N):\n",
    "        # 生成三个随机数作为三角形的边长\n",
    "        a = random.uniform(0, 10)\n",
    "        b = random.uniform(0, 10)\n",
    "        c = random.uniform(0, 10)\n",
    "        if is_valid_triangle(a, b, c):\n",
    "            count += 1\n",
    "    end_time = time.time()\n",
    "    elapsed_time = end_time - start_time\n",
    "    return count / total, elapsed_time\n",
    "\n",
    "# 设置实验次数\n",
    "N = 100000000\n",
    "\n",
    "# 调用蒙特卡洛方法计算符合要求的三角形概率和计算时间\n",
    "prob, elapsed_time = monte_carlo(N)\n",
    "\n",
    "# 输出结果\n",
    "print(\"符合要求的三角形概率为：\", prob)\n",
    "print(\"计算耗时：\", elapsed_time, \"秒\")\n"
   ]
  },
  {
   "cell_type": "code",
   "execution_count": 6,
   "id": "agreed-arkansas",
   "metadata": {},
   "outputs": [],
   "source": [
    "!nvidia-smi -q -d CLOCK"
   ]
  },
  {
   "cell_type": "code",
   "execution_count": 7,
   "id": "boxed-helena",
   "metadata": {},
   "outputs": [],
   "source": [
    "!lscpu"
   ]
  },
  {
   "cell_type": "code",
   "execution_count": 0,
   "id": "cellular-survival",
   "metadata": {},
   "outputs": [],
   "source": []
  }
 ],
 "metadata": {
  "kernelspec": {
   "display_name": "Python 3",
   "language": "python",
   "name": "python3"
  },
  "language_info": {
   "codemirror_mode": {
    "name": "ipython",
    "version": 3
   },
   "file_extension": ".py",
   "mimetype": "text/x-python",
   "name": "python",
   "nbconvert_exporter": "python",
   "pygments_lexer": "ipython3",
   "version": "3.8.5"
  }
 },
 "nbformat": 4,
 "nbformat_minor": 5
}
