{
 "cells": [
  {
   "cell_type": "code",
   "execution_count": 5,
   "id": "circular-commonwealth",
   "metadata": {},
   "outputs": [],
   "source": [
    "import pandas as pd\n",
    "import numpy as np\n",
    "import tensorflow as tf\n",
    "import time\n",
    "import os\n",
    "import time\n",
    "import tensorflow as tf"
   ]
  },
  {
   "cell_type": "markdown",
   "id": "accessible-husband",
   "metadata": {},
   "source": [
    "】从sp500.csv文件中读取数据，并将其存储在一个Pandas DataFrame中。Pandas是一个Python库，用于数据处理和分析。\n",
    "将数据拆分为训练和测试集。它首先计算DataFrame的80％大小，然后将前80％行作为训练数据，剩余的20％行作为测试数据。\n",
    "将训练和测试数据转换为numpy数组，以便在TensorFlow中使用。它使用Pandas的drop()函数删除不必要的Date和Close列，并使用numpy的array()函数将数据转换为numpy数组。\n",
    "\n",
    "定义一个Sequential模型，该模型包含三个密集层（Dense layers），每个层都有64个神经元，激活函数为ReLU。第一个层的input_shape参数设置为(train_x.shape[1],)，其中train_x.shape[1]是训练数据中除了Date和Close列以外的列数。compile()方法指定优化器为Adam，并使用均方误差（MSE）作为损失函数。fit()方法训练模型50个epochs，批量大小为32，verbose参数为0表示不输出训练进度。\n",
    "使用训练好的模型对测试数据进行预测，predict()方法返回模型对输入数据的预测值。\n",
    "\n",
    "\n",
    "这行代码计算模型预测结果的均方根误差（RMSE）。首先使用TensorFlow的mean_squared_error()函数计算预测值和真实值之间的均方误差，然后使用numpy的sqrt()函数计算均方误差的平方根。最后，将RMSE打印到控制台。"
   ]
  },
  {
   "cell_type": "code",
   "execution_count": 3,
   "id": "beneficial-polls",
   "metadata": {},
   "outputs": [],
   "source": [
    "# set batch size\n",
    "batch_size = 128\n",
    "\n",
    "# load csv data into pandas dataframe\n",
    "df = pd.read_csv('sp500.csv')\n",
    "\n",
    "# split data into training and testing sets\n",
    "train_size = int(len(df) * 0.8)\n",
    "train_data, test_data = df.iloc[:train_size], df.iloc[train_size:]\n",
    "\n",
    "# convert data to numpy arrays\n",
    "train_x = np.array(train_data.drop(['Date', 'Close'], axis=1))\n",
    "train_y = np.array(train_data['Close'])\n",
    "test_x = np.array(test_data.drop(['Date', 'Close'], axis=1))\n",
    "test_y = np.array(test_data['Close'])\n"
   ]
  },
  {
   "cell_type": "code",
   "execution_count": 12,
   "id": "excess-abraham",
   "metadata": {},
   "outputs": [
    {
     "name": "stdout",
     "output_type": "stream",
     "text": [
      "CPU Time: 8.383921146392822\n"
     ]
    }
   ],
   "source": [
    "# build and train model on CPU\n",
    "start_time = time.time()\n",
    "\n",
    "model = tf.keras.Sequential([\n",
    "    tf.keras.layers.Dense(64, activation='relu', input_shape=(train_x.shape[1],)),\n",
    "    tf.keras.layers.Dense(64, activation='relu'),\n",
    "    tf.keras.layers.Dense(1)\n",
    "])\n",
    "\n",
    "model.compile(optimizer='adam', loss='mse')\n",
    "model.fit(train_x, train_y, epochs=50, batch_size=128, verbose=0)\n",
    "\n",
    "end_time = time.time()\n",
    "cpu_time = end_time - start_time\n",
    "print('CPU Time:', cpu_time)"
   ]
  },
  {
   "cell_type": "code",
   "execution_count": 13,
   "id": "arabic-placement",
   "metadata": {},
   "outputs": [
    {
     "name": "stdout",
     "output_type": "stream",
     "text": [
      "INFO:tensorflow:Using MirroredStrategy with devices ('/job:localhost/replica:0/task:0/device:GPU:0', '/job:localhost/replica:0/task:0/device:GPU:1')\n",
      "WARNING:tensorflow:Your input ran out of data; interrupting training. Make sure that your dataset or generator can generate at least `steps_per_epoch * epochs` batches (in this case, 1450 batches). You may need to use the repeat() function when building your dataset.\n",
      "GPU Time: 4.145174503326416\n"
     ]
    }
   ],
   "source": [
    "# set environment variables to use multiple GPUs\n",
    "os.environ['CUDA_VISIBLE_DEVICES'] = '0,1'\n",
    "\n",
    "# load csv data into pandas dataframe\n",
    "df = pd.read_csv('sp500.csv')\n",
    "\n",
    "# split data into training and testing sets\n",
    "train_size = int(len(df) * 0.8)\n",
    "train_data, test_data = df.iloc[:train_size], df.iloc[train_size:]\n",
    "\n",
    "# convert data to numpy arrays\n",
    "train_x = np.array(train_data.drop(['Date', 'Close'], axis=1))\n",
    "train_y = np.array(train_data['Close'])\n",
    "test_x = np.array(test_data.drop(['Date', 'Close'], axis=1))\n",
    "test_y = np.array(test_data['Close'])\n",
    "\n",
    "# define multi-GPU strategy\n",
    "strategy = tf.distribute.MirroredStrategy()\n",
    "\n",
    "# define model inside strategy scope\n",
    "with strategy.scope():\n",
    "    model = tf.keras.Sequential([\n",
    "        tf.keras.layers.Dense(64, activation='relu', input_shape=(train_x.shape[1],)),\n",
    "        tf.keras.layers.Dense(64, activation='relu'),\n",
    "        tf.keras.layers.Dense(1)\n",
    "    ])\n",
    "\n",
    "    model.compile(optimizer='adam', loss='mse')\n",
    "\n",
    "# create tensorflow dataset for training data\n",
    "batch_size = 128\n",
    "train_dataset = tf.data.Dataset.from_tensor_slices((train_x, train_y))\n",
    "train_dataset = train_dataset.batch(batch_size)\n",
    "\n",
    "# train model on multiple GPUs\n",
    "epochs = 50\n",
    "steps_per_epoch = len(train_x) // batch_size\n",
    "\n",
    "with strategy.scope():\n",
    "    start_time = time.time()\n",
    "    model.fit(train_dataset, epochs=epochs, steps_per_epoch=steps_per_epoch, verbose=0)\n",
    "    end_time = time.time()\n",
    "    gpu_time = end_time - start_time\n",
    "\n",
    "    \n",
    "\n",
    "   \n",
    "print('GPU Time:', gpu_time)\n",
    "\n",
    "\n",
    "\n"
   ]
  },
  {
   "cell_type": "code",
   "execution_count": 14,
   "id": "deluxe-century",
   "metadata": {},
   "outputs": [
    {
     "data": {
      "image/png": "[encoded data removed]",
      "text/plain": [
       "<Figure size 432x288 with 1 Axes>"
      ]
     },
     "metadata": {
      "needs_background": "light"
     },
     "output_type": "display_data"
    }
   ],
   "source": [
    "import matplotlib.pyplot as plt\n",
    "# plot bar chart\n",
    "labels = ['CPU', 'GPU']\n",
    "times = [cpu_time, gpu_time]\n",
    "plt.bar(labels, times)\n",
    "plt.ylabel('Time (seconds)')\n",
    "plt.title('CPU vs GPU Training Time')\n",
    "\n",
    "plt.show()"
   ]
  },
  {
   "cell_type": "code",
   "execution_count": null,
   "id": "statutory-astronomy",
   "metadata": {},
   "outputs": [],
   "source": []
  }
 ],
 "metadata": {
  "kernelspec": {
   "display_name": "Python 3",
   "language": "python",
   "name": "python3"
  },
  "language_info": {
   "codemirror_mode": {
    "name": "ipython",
    "version": 3
   },
   "file_extension": ".py",
   "mimetype": "text/x-python",
   "name": "python",
   "nbconvert_exporter": "python",
   "pygments_lexer": "ipython3",
   "version": "3.8.5"
  }
 },
 "nbformat": 4,
 "nbformat_minor": 5
}
